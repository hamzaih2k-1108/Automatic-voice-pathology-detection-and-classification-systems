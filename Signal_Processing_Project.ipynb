{
  "cells": [
    {
      "cell_type": "markdown",
      "metadata": {
        "id": "xGH79RPMljWI"
      },
      "source": [
        "### **Introduction**"
      ]
    },
    {
      "cell_type": "markdown",
      "metadata": {
        "id": "F_n-HqWDmeeT"
      },
      "source": [
        "> Automatic voice-pathology detection and classification systems may help clinicians to detect the exis\n",
        "tence of any voice pathologies and the type of pathology from which patients suffer in the early stages\n",
        "Voice pathologies affect the vocal folds, producing irregular vibrations due to the malfunctioning of many factors contributing to vocal vibrations. In addition, voice pathologies affect vocal-fold vibration differently depending on the type of disorder and the location of the disease in the vocal folds, making them produce different basic tones. \\\\\n",
        "In this project we've used CNN as a deep learning algorithm , in order to train our model on the dataset that contains healthy and pathological voices , after applying some filters such as FFT on the voices's signals to avoid noisy data. "
      ]
    },
    {
      "cell_type": "markdown",
      "metadata": {
        "id": "Hr9xuSADYGhN"
      },
      "source": [
        "### **Download the dataset**"
      ]
    },
    {
      "cell_type": "code",
      "execution_count": null,
      "metadata": {
        "id": "zuCcRde5CiSX"
      },
      "outputs": [],
      "source": [
        "!unzip /content/pathological.zip"
      ]
    },
    {
      "cell_type": "markdown",
      "metadata": {
        "id": "cJ1muHc-YS4r"
      },
      "source": [
        "### **Import Libraries**"
      ]
    },
    {
      "cell_type": "code",
      "execution_count": null,
      "metadata": {
        "id": "yk8pOSKH3sbC"
      },
      "outputs": [],
      "source": [
        "import librosa\n",
        "import glob \n",
        "import numpy as np\n",
        "from keras.layers import Dense, Input, Flatten, Dropout\n",
        "from keras.models import Sequential\n",
        "from sklearn.model_selection import train_test_split\n",
        "from sklearn.metrics import classification_report, confusion_matrix\n",
        "import matplotlib.pyplot as plt\n",
        "import seaborn as sn\n",
        "from statistics import mean, median\n",
        "\n",
        "from scipy.io import wavfile\n",
        "from scipy.fftpack import dct"
      ]
    },
    {
      "cell_type": "markdown",
      "metadata": {
        "id": "TEAESCPpY49A"
      },
      "source": [
        "### **Visualization of audios' frequencies**"
      ]
    },
    {
      "cell_type": "code",
      "execution_count": null,
      "metadata": {
        "id": "d3vqNlTC2a9N"
      },
      "outputs": [],
      "source": [
        "### Healthy audio's frequencies visualization\n",
        "sample_rate, signal = wavfile.read('/content/pathological/Normal/1-a_h.wav')\n",
        "\n",
        "signal = signal[0:int(10* sample_rate)]\n",
        "Time = np.linspace(0, len(signal) / sample_rate, num=len(signal))\n",
        "\n",
        "plt.plot(Time, signal)"
      ]
    },
    {
      "cell_type": "code",
      "execution_count": null,
      "metadata": {
        "id": "Se7Zd0CudZ_D"
      },
      "outputs": [],
      "source": [
        "### Pathological audio's frequencies visualization\n",
        "sample_rate, signal = wavfile.read('/content/pathological/pathology/1-a_h-egg.wav')\n",
        "\n",
        "signal = signal[0:int(10* sample_rate)]\n",
        "Time = np.linspace(0, len(signal) / sample_rate, num=len(signal))\n",
        "\n",
        "plt.plot(Time, signal)"
      ]
    },
    {
      "cell_type": "markdown",
      "metadata": {
        "id": "6t_4m--jbCex"
      },
      "source": [
        "### **Pre-Emphasis**"
      ]
    },
    {
      "cell_type": "markdown",
      "metadata": {
        "id": "bjv53lTKdBuD"
      },
      "source": [
        "> The first step is to apply a pre-emphesis filter on signal to amplify the high frequencies. A pre-emphesis filter is useful in several ways:\n",
        " - balance frequency spectrum since high frequencies usually have smaller magnitudes compared to lower frequencies \n",
        " - avoid numerical problems during fourier operatio\n",
        " - Might also improve the signal to Noise Ratio (SNR)\n",
        "\n",
        "> The pre-emphesis filter can be applied to a signal x using the first order filter in the following equation: y(t)=x(t)−αx(t−1), which can be easily implemented using the following line, where typical values for the filter coefficeint ( α ) are 0.95 to 0.97, pre_empasis = 0.97"
      ]
    },
    {
      "cell_type": "code",
      "execution_count": null,
      "metadata": {
        "id": "rKvfP4MxdlHc"
      },
      "outputs": [],
      "source": [
        "pre_emphasis = 0.97\n",
        "emphasized_signal = np.append(signal[0], signal[1:] - pre_emphasis * signal[:-1])"
      ]
    },
    {
      "cell_type": "markdown",
      "metadata": {
        "id": "36hilX77d5L_"
      },
      "source": [
        "> After pre-emphasis, we need to split the signal into short-time frames. The rationale behind this step is that frequencies in a signal change over time, so in most cases it dosen't make sense to do the Fourier Transform across the entier signal in that we would lose the frequency contours of the signal over time. To avoid that, we can safely assume that frequencies in a signal are stationary over a very short period of time. Therefore, by doing a Fourier transform over this short-time frame, we can obtain a good approximation of the frequency contours of the signal by concatenating adjacent frames.\n",
        "\n",
        "\n"
      ]
    },
    {
      "cell_type": "code",
      "execution_count": null,
      "metadata": {
        "id": "3iqF1OAmdz99"
      },
      "outputs": [],
      "source": [
        "frame_size = 0.025\n",
        "frame_stride = 0.01\n",
        "\n",
        "frame_length, frame_step = frame_size * sample_rate, frame_stride * sample_rate  # Convert from seconds to samples\n",
        "signal_length = len(emphasized_signal)\n",
        "frame_length = int(round(frame_length))\n",
        "frame_step = int(round(frame_step))\n",
        "num_frames = int(np.ceil(float(np.abs(signal_length - frame_length)) / frame_step))  # Make sure that we have at least 1 frame\n",
        "\n",
        "pad_signal_length = num_frames * frame_step + frame_length\n",
        "z = np.zeros((pad_signal_length - signal_length))\n",
        "pad_signal = np.append(emphasized_signal, z) # Pad Signal to make sure that all frames have equal number of samples without truncating any samples from the original signal\n",
        "\n",
        "indices = np.tile(np.arange(0, frame_length), (num_frames, 1)) + np.tile(np.arange(0, num_frames * frame_step, frame_step), (frame_length, 1)).T\n",
        "frames = pad_signal[indices.astype(np.int32, copy=False)]"
      ]
    },
    {
      "cell_type": "code",
      "execution_count": null,
      "metadata": {
        "id": "UE5cdzkTd4NV"
      },
      "outputs": [],
      "source": [
        "frames *= np.hamming(frame_length)\n",
        "# frames *= 0.54 - 0.46 * np.cos((2 * np.pi * n) / (frame_length - 1))  # Explicit Implementation **\n"
      ]
    },
    {
      "cell_type": "markdown",
      "metadata": {
        "id": "ZQHmH4zMe522"
      },
      "source": [
        "### **Fourier-Transfrom**"
      ]
    },
    {
      "cell_type": "markdown",
      "metadata": {
        "id": "aCGWSkU9fCzn"
      },
      "source": [
        "> We can now do an N-point FFT on each frame to calculate the frequency spectrum, which is also called Short-Time-Fourier-Transfrom (STFT), where N is typically 256 or 512, NFFT = 512; and then compute the power spectrum (Periodogram) using the following equation: \n",
        "\n",
        "$$ P = \\frac{ \\vert FFT(x_{i})\\vert }{2N}$$\n",
        "\n",
        "where , xi is the ith frame of signal x. This can be easily imlemented with the following lines:"
      ]
    },
    {
      "cell_type": "code",
      "execution_count": null,
      "metadata": {
        "id": "K73LuPNUd-5t"
      },
      "outputs": [],
      "source": [
        "NFFT = 512\n",
        "\n",
        "mag_frames = np.absolute(np.fft.rfft(frames, NFFT))  # Magnitude of the FFT\n",
        "pow_frames = ((1.0 / NFFT) * ((mag_frames) ** 2))  # Power Spectrum"
      ]
    },
    {
      "cell_type": "code",
      "execution_count": null,
      "metadata": {
        "id": "E0DF7-jmeCCE"
      },
      "outputs": [],
      "source": [
        "nfilt = 40\n",
        "\n",
        "low_freq_mel = 0\n",
        "high_freq_mel = (2595 * np.log10(1 + (sample_rate / 2) / 700))  # Convert Hz to Mel\n",
        "mel_points = np.linspace(low_freq_mel, high_freq_mel, nfilt + 2)  # Equally spaced in Mel scale\n",
        "hz_points = (700 * (10**(mel_points / 2595) - 1))  # Convert Mel to Hz\n",
        "bin = np.floor((NFFT + 1) * hz_points / sample_rate)\n",
        "\n",
        "fbank = np.zeros((nfilt, int(np.floor(NFFT / 2 + 1))))\n",
        "for m in range(1, nfilt + 1):\n",
        "    f_m_minus = int(bin[m - 1])   # left\n",
        "    f_m = int(bin[m])             # center\n",
        "    f_m_plus = int(bin[m + 1])    # right\n",
        "\n",
        "    for k in range(f_m_minus, f_m):\n",
        "        fbank[m - 1, k] = (k - bin[m - 1]) / (bin[m] - bin[m - 1])\n",
        "    for k in range(f_m, f_m_plus):\n",
        "        fbank[m - 1, k] = (bin[m + 1] - k) / (bin[m + 1] - bin[m])\n",
        "filter_banks = np.dot(pow_frames, fbank.T)\n",
        "filter_banks = np.where(filter_banks == 0, np.finfo(float).eps, filter_banks)  # Numerical Stability\n",
        "filter_banks = 20 * np.log10(filter_banks)  # dB"
      ]
    },
    {
      "cell_type": "markdown",
      "metadata": {
        "id": "-pWscIJ9gmrr"
      },
      "source": [
        "After applying the filter bank to the power spectrum (peridogram) of the signal, we obtain the following spectrogram:"
      ]
    },
    {
      "cell_type": "code",
      "execution_count": null,
      "metadata": {
        "id": "wt7LnL0aeFhI"
      },
      "outputs": [],
      "source": [
        "fig, ax = plt.subplots(nrows=1, ncols=1, figsize=(20, 4))\n",
        "cax = ax.matshow(\n",
        "    np.transpose(filter_banks),\n",
        "    interpolation=\"nearest\",\n",
        "    aspect=\"auto\",\n",
        "    cmap=plt.cm.afmhot_r,\n",
        "    origin=\"lower\",\n",
        ")\n",
        "fig.colorbar(cax)\n",
        "plt.title(\"Mel compression Spectrogram\")\n",
        "plt.show()"
      ]
    },
    {
      "cell_type": "markdown",
      "metadata": {
        "id": "QQ8VH2Kng1Pi"
      },
      "source": [
        "> It turns out that filter bank coefficients computed in the previous step are higly correlated, which could be problematic in some machine learning algorithms. Therefore, we can apply Discrete Cosine Transform(DCT) to decorrelate the filter bank coefficients and yield compressed representation of filter banks."
      ]
    },
    {
      "cell_type": "code",
      "execution_count": null,
      "metadata": {
        "id": "GFshf78leIPT"
      },
      "outputs": [],
      "source": [
        "num_ceps = 12\n",
        "mfcc = dct(filter_banks, type = 2, axis=1, norm=\"ortho\")[:,1: (num_ceps + 1)] # keep 2-13"
      ]
    },
    {
      "cell_type": "markdown",
      "metadata": {
        "id": "NckAsn-ZhbA4"
      },
      "source": [
        "> One may apply sinusoidal liftering to the MFCCs to de-emphasize higher MFCCs which has been claimed to improve speech recognition in noisy signals"
      ]
    },
    {
      "cell_type": "code",
      "execution_count": null,
      "metadata": {
        "id": "JCqCOCzpeUL4"
      },
      "outputs": [],
      "source": [
        "\n",
        "\n",
        "cep_lifter = 22\n",
        "(nframes, ncoeff) = mfcc.shape\n",
        "n = np.arange(ncoeff)\n",
        "lift = 1 + (cep_lifter / 2) * np.sin(np.pi * n/ cep_lifter)\n",
        "mfcc *= lift\n",
        "\n",
        "fig, ax = plt.subplots(nrows=1, ncols=1, figsize=(20, 4))\n",
        "cax = ax.matshow(\n",
        "    np.transpose(mfcc),\n",
        "    interpolation=\"nearest\",\n",
        "    aspect=\"auto\",\n",
        "    cmap=plt.cm.afmhot_r,\n",
        "    origin=\"lower\",\n",
        ")\n",
        "fig.colorbar(cax)\n",
        "plt.title(\"MFCC Spectrogram\")\n",
        "plt.show()"
      ]
    },
    {
      "cell_type": "code",
      "execution_count": null,
      "metadata": {
        "id": "6zgmex5XEo8o"
      },
      "outputs": [],
      "source": []
    },
    {
      "cell_type": "markdown",
      "metadata": {
        "id": "oy70NNM-hoEd"
      },
      "source": [
        "### **Build CNN model**"
      ]
    },
    {
      "cell_type": "code",
      "execution_count": null,
      "metadata": {
        "id": "_sPSapo0tFRM"
      },
      "outputs": [],
      "source": [
        "pathological_dir = \"/content/pathological/pathology/\"\n",
        "pathological_paths = glob.glob(pathological_dir+ \"*.wav\")\n",
        "\n",
        "healthy_dir = \"/content/pathological/Normal/\"\n",
        "healthy_paths = glob.glob(healthy_dir+\"*.wav\")\n",
        "\n",
        "X = []\n",
        "y = []\n",
        "\n",
        "for pathological in pathological_paths:\n",
        "    X.append(librosa.load(pathological))\n",
        "    y.append(1)\n",
        "    \n",
        "for healthy in healthy_paths:\n",
        "    X.append(librosa.load(healthy))\n",
        "    y.append(0)"
      ]
    },
    {
      "cell_type": "code",
      "execution_count": null,
      "metadata": {
        "id": "dFDjrgD3sqt5"
      },
      "outputs": [],
      "source": [
        "def MFCC(y, sr, n_mfcc=13):\n",
        "    return np.mean(librosa.feature.mfcc(y=y, n_mfcc=n_mfcc, sr=sr), axis=1)\n",
        "\n",
        "MFCC_data = []\n",
        "\n",
        "for signal in X:\n",
        "    MFCC_data.append(MFCC(signal[0], signal[1]))\n",
        "\n",
        "X_MFCC = np.array(MFCC_data)"
      ]
    },
    {
      "cell_type": "code",
      "execution_count": null,
      "metadata": {
        "id": "zpS3T8Qm6tB_"
      },
      "outputs": [],
      "source": [
        "'''X_train, X_test, y_train, y_test = train_test_split(X_MFCC, y, test_size=0.2, random_state=42)\n",
        "x_valid, X_test, y_valid, y_test = train_test_split(X_test, y_test, test_size=0.5, random_state=42)\n",
        "\n",
        "batch_size=10\n",
        "epochs=10'''"
      ]
    },
    {
      "cell_type": "code",
      "execution_count": null,
      "metadata": {
        "id": "wRQxmKbuxKRJ"
      },
      "outputs": [],
      "source": [
        "#input_shape = (X_MFCC.shape[1], X_MFCC.shape[2], 1)\n",
        "\n",
        "model = Sequential([               \n",
        "    Dense(124, activation='relu'), \n",
        "    Dense(16, activation='relu'),\n",
        "    Dense(4, activation='relu'),  \n",
        "    \n",
        "    Dense(1, activation='sigmoid') \n",
        "    ])\n",
        "model.compile(optimizer='adam', loss='binary_crossentropy', metrics='accuracy')\n",
        "\n",
        "X_train, X_test, y_train, y_test = train_test_split(X_MFCC, np.array(y), test_size=0.3, random_state=42)\n",
        "x_valid, X_test, y_valid, y_test = train_test_split(X_test, y_test, test_size=0.5, random_state=42)\n",
        "\n",
        "batch_size=16\n",
        "epochs=10\n",
        "history = model.fit(X_train, y_train, batch_size=batch_size, epochs=epochs, validation_data=(x_valid, y_valid))\n",
        "\n",
        "print(model.summary())"
      ]
    },
    {
      "cell_type": "code",
      "execution_count": null,
      "metadata": {
        "id": "7BTOY4hOxTBy"
      },
      "outputs": [],
      "source": [
        "acc = history.history['accuracy']\n",
        "val_acc = history.history['val_accuracy']\n",
        "loss = history.history['loss']\n",
        "val_loss = history.history['val_loss']\n",
        "epochs_range = range(epochs)\n",
        "\n",
        "plt.figure(figsize=(16, 8))\n",
        "plt.subplot(1, 2, 1)\n",
        "plt.plot(epochs_range, acc, label='Training Accuracy')\n",
        "plt.plot(epochs_range, val_acc, label='Validation Accuracy')\n",
        "plt.legend(loc='lower right')\n",
        "plt.title('Training and Validation Accuracy')\n",
        "\n",
        "plt.subplot(1, 2, 2)\n",
        "plt.plot(epochs_range, loss, label='Training Loss')\n",
        "plt.plot(epochs_range, val_loss, label='Validation Loss')\n",
        "plt.legend(loc='upper right')\n",
        "plt.title('Training and Validation Loss')\n",
        "plt.show()\n",
        "\n",
        "y_pred = model.predict(X_test)\n",
        "y_pred = np.where(y_pred < 0.5, 0, 1)\n",
        "print(classification_report(y_test, y_pred))\n",
        "\n",
        "matrix = confusion_matrix(y_test, y_pred)\n",
        "\n",
        "plt.subplots(figsize=(10,10))  \n",
        "sn.heatmap(matrix, annot = True, annot_kws={\"size\": 10}, fmt = '.1f')"
      ]
    },
    {
      "cell_type": "markdown",
      "metadata": {
        "id": "3nW_TXVRi3Ok"
      },
      "source": [
        "> To further test the robustness of the proposed methodology, the accuracy, recall, precision score and F1 score for the proposed weighted classifier were calculated (in the figure below)\n",
        "\n",
        "![Capture20.PNG](data:image/png;base64,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)\n",
        "\n"
      ]
    },
    {
      "cell_type": "markdown",
      "metadata": {
        "id": "BmsKVm3yj0Dj"
      },
      "source": [
        "> One additional way of representing the results of the model is to build a confusion matrix. The Y-axis of the confusion matrix holds the predicted values, while the X-axis holds the true values. The confusion matrix for our latest experiment is illustrated in the below Figure help of the confusion matrix, the number of true positives, true negatives, false positives, and false negatives could be calculated, which further helped in checking the efficacy of the model. \n",
        "![téléchargement (1).png](data:image/png;base64,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)\n",
        "\n",
        ">This matrix shows that among the total of 67 pathological audios, only 10 audios were misclassified and 0 audios from true healthy audios, which are 57 , were predicted as pathological."
      ]
    },
    {
      "cell_type": "markdown",
      "metadata": {
        "id": "qW-qTO96k1Ch"
      },
      "source": [
        "> The below Figure shows the training and validation accuracy as well as the training and validation loss  obtained during the training of CNN model for 10 epochs. The training accuracy and validation accuracy all exceeded 99%, also the training loss and validation loss were below 0.5, which means that the CNN model has the potential power to acquire excellent performance.\n",
        "\n",
        "![téléchargement (2).png](data:image/png;base64,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)"
      ]
    },
    {
      "cell_type": "code",
      "execution_count": null,
      "metadata": {
        "id": "FKGfh9kAjysD"
      },
      "outputs": [],
      "source": []
    }
  ],
  "metadata": {
    "colab": {
      "name": "Signal_Processing_Project.ipynb",
      "private_outputs": true,
      "provenance": []
    },
    "kernelspec": {
      "display_name": "Python 3",
      "name": "python3"
    },
    "language_info": {
      "name": "python"
    }
  },
  "nbformat": 4,
  "nbformat_minor": 0
}
